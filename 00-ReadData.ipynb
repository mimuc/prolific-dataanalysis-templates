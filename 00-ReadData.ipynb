{
 "cells": [
  {
   "cell_type": "markdown",
   "metadata": {},
   "source": [
    "1. Create `QUALTRICS` folder and put your exported qualtrics csv's inside\n",
    "2. Create `PROLIFIC` folder and put your exported prolific csv's inside\n",
    "3. Create `dataframes` folder to save your exported dataframes into."
   ]
  },
  {
   "cell_type": "code",
   "execution_count": 4,
   "metadata": {},
   "outputs": [],
   "source": [
    "import pandas as pd\n",
    "import numpy as np\n",
    "import matplotlib.pyplot as plt\n",
    "from pathlib import Path\n",
    "import os"
   ]
  },
  {
   "cell_type": "code",
   "execution_count": null,
   "metadata": {},
   "outputs": [],
   "source": []
  },
  {
   "cell_type": "code",
   "execution_count": null,
   "metadata": {},
   "outputs": [],
   "source": [
    "COMPLETION_CODE_ACCEPTED = \"\"\n",
    "COMPLETION_CODE_FAILED_COMPREHENSION = \"\"\n",
    "COMPLETION_CODE_REJECTED = \"\""
   ]
  },
  {
   "cell_type": "code",
   "execution_count": null,
   "metadata": {},
   "outputs": [],
   "source": [
    "pathlist = Path(\"./QUALTRICS/\").glob('**/*.csv')\n",
    "dfs = []\n",
    "for path in pathlist:\n",
    "    path_in_str = str(path)\n",
    "    dfs.append(pd.read_csv(path_in_str, skiprows=[1,2]))\n",
    "df = pd.concat(dfs)\n",
    "df.drop_duplicates(inplace=True)"
   ]
  },
  {
   "cell_type": "code",
   "execution_count": null,
   "metadata": {},
   "outputs": [],
   "source": [
    "pathlist = Path(\"./PROLIFIC/\").glob('**/*.csv')\n",
    "dfs = []\n",
    "for path in sorted(pathlist, key=os.path.getmtime, reverse=True):\n",
    "    path_in_str = str(path)\n",
    "    tmp = pd.read_csv(path_in_str)\n",
    "    tmp[\"Prolific_File\"] = path_in_str.split(\"\\\\\")[1]\n",
    "    dfs.append(tmp)\n",
    "df_prolific = pd.concat(dfs)\n",
    "df_prolific = df_prolific.rename(columns={\"Participant id\": \"PID\"})\n",
    "print(f'Remove duplicates - len before:  {len(df_prolific)}')\n",
    "df_prolific = df_prolific.groupby(['PID']).head(1)\n",
    "print(f'Remove duplicates - len after:  {len(df_prolific)}')"
   ]
  },
  {
   "cell_type": "code",
   "execution_count": null,
   "metadata": {},
   "outputs": [],
   "source": [
    "lstProlificPID = df_prolific[df_prolific.Status == \"REJECTED\"].PID.values\n",
    "\n",
    "print(df_prolific.Status.value_counts())\n",
    "df_prolific = df_prolific[df_prolific.Status != \"REJECTED\"]\n",
    "\n",
    "print(f'Amount of other completion code people. {len(df_prolific[df_prolific[\"Completion code\"] != COMPLETION_CODE_ACCEPTED])}')\n",
    "print('')\n",
    "df_prolific = df_prolific[df_prolific[\"Completion code\"] == COMPLETION_CODE_ACCEPTED]\n",
    "\n",
    "print(f'Amount of RETURNED people {len(df_prolific[df_prolific.Status == \"RETURNED\"])}')\n",
    "df_prolific = df_prolific[df_prolific.Status != \"RETURNED\"]"
   ]
  },
  {
   "cell_type": "markdown",
   "metadata": {},
   "source": [
    "# Merge Qualtrics and Prolific Dataframes"
   ]
  },
  {
   "cell_type": "code",
   "execution_count": null,
   "metadata": {},
   "outputs": [],
   "source": [
    "len(df_prolific.PID.unique()), len(df.PID.unique())"
   ]
  },
  {
   "cell_type": "code",
   "execution_count": null,
   "metadata": {},
   "outputs": [],
   "source": [
    "df = pd.merge(df_prolific, df, on=\"PID\", how=\"inner\")\n",
    "print(len(df))\n",
    "df.head()"
   ]
  },
  {
   "cell_type": "markdown",
   "metadata": {},
   "source": [
    "# AttentionCheck"
   ]
  },
  {
   "cell_type": "code",
   "execution_count": null,
   "metadata": {},
   "outputs": [],
   "source": [
    "ATTENTION_CHECK_COLUMN_NAMES = [] # Add the column names of the attention check here\n",
    "\n",
    "\n",
    "df_attention = df.copy()\n",
    "# Change the following row to filter for your attention checks\n",
    "df_attention = df_attention[(df_attention[ATTENTION_CHECK_COLUMN_NAMES[0]] != \"Strongly Agree\") | (df_attention[ATTENTION_CHECK_COLUMN_NAMES[1]] <= 92)] #\n",
    "\n",
    "df_attention = df_attention[['PID', 'AttentionCheckStronglyAgree', 'AttentionCheckRight', \"Scenario_ID\", \"recap\", \"Prolific_File\"]]\n",
    "df_attention.drop_duplicates(inplace=True)\n",
    "failedAttentionCheckPIDs = df_attention.PID.values\n",
    "print(f'Rejection Count: {len(df_prolific[df_prolific.PID.isin(failedAttentionCheckPIDs)])}')\n",
    "\n",
    "failedAttentionCheckPIDs"
   ]
  },
  {
   "cell_type": "code",
   "execution_count": null,
   "metadata": {},
   "outputs": [],
   "source": [
    "# Filter failed people out\n",
    "df = df[~df.PID.isin(failedAttentionCheckCount)]"
   ]
  },
  {
   "cell_type": "code",
   "execution_count": null,
   "metadata": {},
   "outputs": [],
   "source": [
    "df.to_csv(\"./dataframes/00-filtered-dataframe.csv\", index=False)"
   ]
  }
 ],
 "metadata": {
  "kernelspec": {
   "display_name": "Python 3",
   "language": "python",
   "name": "python3"
  },
  "language_info": {
   "codemirror_mode": {
    "name": "ipython",
    "version": 3
   },
   "file_extension": ".py",
   "mimetype": "text/x-python",
   "name": "python",
   "nbconvert_exporter": "python",
   "pygments_lexer": "ipython3",
   "version": "3.12.2"
  }
 },
 "nbformat": 4,
 "nbformat_minor": 2
}
